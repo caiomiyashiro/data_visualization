{
 "cells": [
  {
   "cell_type": "code",
   "execution_count": 1,
   "metadata": {},
   "outputs": [],
   "source": [
    "import cv2\n",
    "import mlrose\n",
    "import numpy as np\n",
    "import matplotlib\n",
    "import json"
   ]
  },
  {
   "cell_type": "code",
   "execution_count": 30,
   "metadata": {},
   "outputs": [
    {
     "data": {
      "image/png": "[encoded data removed]",
      "text/plain": [
       "<Figure size 1152x576 with 1 Axes>"
      ]
     },
     "metadata": {},
     "output_type": "display_data"
    },
    {
     "data": {
      "image/png": "[encoded data removed]",
      "text/plain": [
       "<Figure size 1152x576 with 1 Axes>"
      ]
     },
     "metadata": {},
     "output_type": "display_data"
    }
   ],
   "source": [
    "#### RESIING\n",
    "def resize(image, width = None, height = None, inter = cv2.INTER_AREA):\n",
    "\t# initialize the dimensions of the image to be resized and\n",
    "\t# grab the image size\n",
    "\tdim = None\n",
    "\t(h, w) = image.shape[:2]\n",
    "\n",
    "\t# if both the width and height are None, then return the\n",
    "\t# original image\n",
    "\tif width is None and height is None:\n",
    "\t\treturn image\n",
    "\n",
    "\t# check to see if the width is None\n",
    "\tif width is None:\n",
    "\t\t# calculate the ratio of the height and construct the\n",
    "\t\t# dimensions\n",
    "\t\tr = height / float(h)\n",
    "\t\tdim = (int(w * r), height)\n",
    "\n",
    "\t# otherwise, the height is None\n",
    "\telse:\n",
    "\t\t# calculate the ratio of the width and construct the\n",
    "\t\t# dimensions\n",
    "\t\tr = width / float(w)\n",
    "\t\tdim = (width, int(h * r))\n",
    "\n",
    "\t# resize the image\n",
    "\tresized = cv2.resize(image, dim, interpolation = inter)\n",
    "\n",
    "\t# return the resized image\n",
    "\treturn resized\n",
    "\t\n",
    "\t\n",
    "#### CANNY STUFF\n",
    "# image = cv2.imread(\"elephant.png\")\n",
    "# print(image.shape)\n",
    "# image = cv2.resize(image,(360,480))\n",
    "# gray = cv2.cvtColor(image, cv2.COLOR_BGR2GRAY)\n",
    "# # display_img(gray)\n",
    "# _,bin_img = cv2.threshold(gray,0,255,cv2.THRESH_BINARY)\n",
    "# # display_img(bin_img)\n",
    "# edged = cv2.Canny(bin_img, 50, 100)\n",
    "# plt.figure(figsize=[16,8])\n",
    "# plt.imshow(edged)\n",
    "# plt.title('my picture')\n",
    "# plt.show()\n",
    "\n",
    "image = cv2.imread(\"python_pizza_logo.png\")\n",
    "gray = cv2.cvtColor(image, cv2.COLOR_BGR2GRAY)\n",
    "# display_img(gray)\n",
    "_,bin_img = cv2.threshold(gray,150,255,cv2.THRESH_BINARY)\n",
    "plt.figure(figsize=[16,8])\n",
    "plt.imshow(bin_img)\n",
    "plt.title('bin_img')\n",
    "plt.show()\n",
    "edged = cv2.Canny(bin_img, 50, 200)\n",
    "plt.figure(figsize=[16,8])\n",
    "plt.imshow(edged)\n",
    "plt.title('edged')\n",
    "plt.show()"
   ]
  },
  {
   "cell_type": "code",
   "execution_count": 31,
   "metadata": {},
   "outputs": [],
   "source": [
    "matplotlib.image.imsave('pizza_processed.png', edged)"
   ]
  },
  {
   "cell_type": "markdown",
   "metadata": {},
   "source": [
    "convert to svg: https://www.pngtosvg.com/\n"
   ]
  },
  {
   "cell_type": "code",
   "execution_count": null,
   "metadata": {},
   "outputs": [],
   "source": []
  },
  {
   "cell_type": "markdown",
   "metadata": {},
   "source": [
    "convert to points: https://shinao.github.io/PathToPoints/\n",
    "\n",
    "and regex replace:\n",
    "\n",
    "regex - \n",
    "* (.+)  \n",
    "* [$1],  \n",
    "  \n",
    "Save in python variable in points.py file  "
   ]
  },
  {
   "cell_type": "code",
   "execution_count": 2,
   "metadata": {},
   "outputs": [],
   "source": [
    "from points import points"
   ]
  },
  {
   "cell_type": "code",
   "execution_count": 3,
   "metadata": {},
   "outputs": [
    {
     "name": "stdout",
     "output_type": "stream",
     "text": [
      "10.57403448254615\n",
      "400.0\n",
      "24.82781521642953\n",
      "754.7170000000001\n"
     ]
    }
   ],
   "source": [
    "print(np.min([e[0] for e in points]))\n",
    "print(np.max([e[0] for e in points]))\n",
    "print(np.min([e[1] for e in points]))\n",
    "print(np.max([e[1] for e in points]))"
   ]
  },
  {
   "cell_type": "code",
   "execution_count": 185,
   "metadata": {},
   "outputs": [
    {
     "name": "stdout",
     "output_type": "stream",
     "text": [
      "-171.18040674631294\n",
      "171.02456605213877\n",
      "-31.67496326503401\n",
      "1.0188888845219992\n"
     ]
    }
   ],
   "source": [
    "test = points_filtered[:-1] - points_filtered[1:]\n",
    "print(np.min(test[:,0]))\n",
    "print(np.max(test[:,0]))\n",
    "print(np.min(test[:,1]))\n",
    "print(np.max(test[:,1]))"
   ]
  },
  {
   "cell_type": "code",
   "execution_count": 184,
   "metadata": {},
   "outputs": [],
   "source": [
    "points_filtered = []\n",
    "for e in points:\n",
    "    if (int(e[0]) != 0) and (int(e[0]) != 400) and (int(e[1]) != 0) and (int(e[1]) != 400):\n",
    "        points_filtered.append(e)\n",
    "points_filtered = np.array(points_filtered)        "
   ]
  },
  {
   "cell_type": "code",
   "execution_count": 176,
   "metadata": {},
   "outputs": [
    {
     "name": "stdout",
     "output_type": "stream",
     "text": [
      "[ 380  758 1661 1720 1778 1834 1888 2320 2959 3442 3972 4014 4054 4512\n",
      " 4661 4887 5112 5226 5311 5394 5693 6173 6263]\n",
      "[378 903  59  58  56  54 432 639 483 530  42  40 458 149 226 225 114  85\n",
      "  83 299 480  90]\n",
      "[[1661, 1720], [1720, 1778], [1778, 1834], [1834, 1888], [3972, 4014], [4014, 4054]]\n"
     ]
    }
   ],
   "source": [
    "# IT DOESN'T WORK! Lines are STIL THERE! ARGH\n",
    "distances = []\n",
    "for i in range(len(points_filtered)-1):\n",
    "    distances.append(np.sqrt((points_filtered[i+1,0] - points_filtered[i,0])**2 + (points_filtered[i+1,1] - points_filtered[i,1])**2))\n",
    "distances[:3]  \n",
    "distances = np.array(distances)\n",
    "\n",
    "ixs = np.where(distances > 1.5)[0] # 6 manually tested to not remove olives :D\n",
    "print(ixs)\n",
    "ixs_distances = ixs[1:] - ixs[:-1]\n",
    "print(ixs_distances)\n",
    "\n",
    "wrong_pairs = zip(ixs[np.where(ixs_distances < 60)[0]],ixs[np.where(ixs_distances < 60)[0]+1])\n",
    "wrong_pairs = ([[e1,e2] for e1,e2 in wrong_pairs])\n",
    "print(wrong_pairs)\n",
    "\n",
    "del_ixs = []\n",
    "for elem in wrong_pairs:\n",
    "    del_ixs.extend(list(range(elem[0], elem[1]+1)))\n",
    "del_ixs = list(set(del_ixs))\n",
    "\n",
    "points_filtered2 = np.delete(points_filtered, del_ixs, axis=0)\n"
   ]
  },
  {
   "cell_type": "code",
   "execution_count": 4,
   "metadata": {},
   "outputs": [
    {
     "data": {
      "image/png": "[encoded data removed]",
      "text/plain": [
       "<Figure size 432x288 with 1 Axes>"
      ]
     },
     "metadata": {},
     "output_type": "display_data"
    }
   ],
   "source": [
    "plt.scatter([e[0] for e in points], [e[1] for e in points]);"
   ]
  },
  {
   "cell_type": "code",
   "execution_count": 6,
   "metadata": {},
   "outputs": [],
   "source": [
    "e = []\n",
    "for elem in points:\n",
    "    e.append({'x':elem[0], 'y':elem[1]})\n",
    "\n",
    "e = f'let drawing = {e}'    \n",
    "\n",
    "with open('tower_sorted2.js', 'w') as outfile:\n",
    "    json.dump(e, outfile)\n",
    "    \n",
    "# open file and remove string quotes  "
   ]
  },
  {
   "cell_type": "code",
   "execution_count": null,
   "metadata": {},
   "outputs": [],
   "source": []
  },
  {
   "cell_type": "code",
   "execution_count": null,
   "metadata": {},
   "outputs": [],
   "source": []
  },
  {
   "cell_type": "code",
   "execution_count": null,
   "metadata": {},
   "outputs": [],
   "source": []
  },
  {
   "cell_type": "code",
   "execution_count": null,
   "metadata": {},
   "outputs": [],
   "source": []
  },
  {
   "cell_type": "code",
   "execution_count": null,
   "metadata": {},
   "outputs": [],
   "source": []
  },
  {
   "cell_type": "code",
   "execution_count": null,
   "metadata": {},
   "outputs": [],
   "source": []
  },
  {
   "cell_type": "code",
   "execution_count": null,
   "metadata": {},
   "outputs": [],
   "source": []
  },
  {
   "cell_type": "code",
   "execution_count": null,
   "metadata": {},
   "outputs": [],
   "source": []
  },
  {
   "cell_type": "code",
   "execution_count": null,
   "metadata": {},
   "outputs": [],
   "source": []
  },
  {
   "cell_type": "code",
   "execution_count": 243,
   "metadata": {},
   "outputs": [],
   "source": [
    "points_2 = [complex(e[0], e[1]) for e in points_filtered]\n",
    "f = np.fft.fft(points_2)\n",
    "f_splitted = np.array([[elem.real, elem.imag] for elem in f])\n",
    "# f_splitted[:,0] = np.abs(f_splitted[:,0])"
   ]
  },
  {
   "cell_type": "code",
   "execution_count": 247,
   "metadata": {},
   "outputs": [],
   "source": [
    "np.savetxt('data.csv', f_splitted, delimiter=',')"
   ]
  },
  {
   "cell_type": "code",
   "execution_count": 244,
   "metadata": {},
   "outputs": [],
   "source": [
    "f_splitted_test = [complex(elem[0], elem[1]) for elem in f_splitted]"
   ]
  },
  {
   "cell_type": "code",
   "execution_count": 245,
   "metadata": {},
   "outputs": [],
   "source": [
    "ifft_ = np.fft.ifft(f_splitted_test)"
   ]
  },
  {
   "cell_type": "code",
   "execution_count": 246,
   "metadata": {
    "scrolled": true
   },
   "outputs": [
    {
     "data": {
      "text/plain": [
       "<matplotlib.collections.PathCollection at 0x121af6390>"
      ]
     },
     "execution_count": 246,
     "metadata": {},
     "output_type": "execute_result"
    },
    {
     "data": {
      "image/png": "[encoded data removed]",
      "text/plain": [
       "<Figure size 432x288 with 1 Axes>"
      ]
     },
     "metadata": {},
     "output_type": "display_data"
    }
   ],
   "source": [
    "plt.scatter(ifft_[:].real, ifft_[:].imag)"
   ]
  },
  {
   "cell_type": "code",
   "execution_count": null,
   "metadata": {},
   "outputs": [],
   "source": []
  }
 ],
 "metadata": {
  "hide_input": false,
  "kernelspec": {
   "display_name": "Python 3",
   "language": "python",
   "name": "python3"
  },
  "language_info": {
   "codemirror_mode": {
    "name": "ipython",
    "version": 3
   },
   "file_extension": ".py",
   "mimetype": "text/x-python",
   "name": "python",
   "nbconvert_exporter": "python",
   "pygments_lexer": "ipython3",
   "version": "3.6.4"
  },
  "toc": {
   "base_numbering": 1,
   "nav_menu": {},
   "number_sections": true,
   "sideBar": true,
   "skip_h1_title": false,
   "title_cell": "Table of Contents",
   "title_sidebar": "Contents",
   "toc_cell": false,
   "toc_position": {},
   "toc_section_display": true,
   "toc_window_display": false
  }
 },
 "nbformat": 4,
 "nbformat_minor": 2
}
